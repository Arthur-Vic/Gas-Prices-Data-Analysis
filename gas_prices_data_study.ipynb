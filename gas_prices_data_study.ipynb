{
 "cells": [
  {
   "cell_type": "code",
   "execution_count": null,
   "metadata": {},
   "outputs": [],
   "source": [
    "import pandas as pd\n",
    "df = pd.read_csv('2004-2021.csv')\n",
    "#df"
   ]
  },
  {
   "cell_type": "code",
   "execution_count": null,
   "metadata": {},
   "outputs": [],
   "source": [
    "### Original Data was not Comma Separated -- FIX\n",
    "df = pd.read_csv('2004-2021.csv', delimiter='\\t')\n",
    "#df"
   ]
  },
  {
   "cell_type": "code",
   "execution_count": null,
   "metadata": {},
   "outputs": [],
   "source": [
    "### Removing space and lower casing column index for ease of use\n",
    "df.columns = df.columns.str.replace(\" \", \"_\")\n",
    "df.columns = map(str.lower, df.columns)\n",
    "#print(df.head(5))"
   ]
  },
  {
   "cell_type": "code",
   "execution_count": null,
   "metadata": {},
   "outputs": [],
   "source": [
    "### Checking if data types are correct\n",
    "#df.dtypes"
   ]
  },
  {
   "cell_type": "code",
   "execution_count": null,
   "metadata": {},
   "outputs": [],
   "source": [
    "### Correcting dates to date format instead of str\n",
    "df['data_inicial'] = pd.to_datetime(df['data_inicial'])\n",
    "df['data_final'] = pd.to_datetime(df['data_final'])\n",
    "#df.dtypes"
   ]
  },
  {
   "cell_type": "code",
   "execution_count": null,
   "metadata": {},
   "outputs": [],
   "source": [
    "### Cleaning out some of the columns I don't intent to use and removing data with different pricing unit (not converting at the moment)\n",
    "df_clean = df[['data_inicial', 'região', 'estado', 'produto', 'unidade_de_medida', 'preço_médio_revenda', 'desvio_padrão_revenda', 'preço_mínimo_revenda', 'preço_máximo_revenda']]\n",
    "df_clean = df_clean.loc[df_clean['unidade_de_medida'] == 'R$/l']\n",
    "#print(df_clean.head(10))"
   ]
  },
  {
   "cell_type": "code",
   "execution_count": null,
   "metadata": {},
   "outputs": [],
   "source": [
    "### Standardizing spelling for 'Óleo Diesel' (had some data with and without accent marker)\n",
    "df_clean['produto'] = df_clean['produto'].str.replace('OLEO DIESEL','ÓLEO DIESEL')\n",
    "#df_clean"
   ]
  },
  {
   "cell_type": "code",
   "execution_count": null,
   "metadata": {},
   "outputs": [],
   "source": [
    "### Sorting data for ease of use and visualisation\n",
    "df_clean = df_clean.sort_values(['produto', 'região', 'estado', 'data_inicial'])\n",
    "#df_clean"
   ]
  },
  {
   "cell_type": "code",
   "execution_count": null,
   "metadata": {},
   "outputs": [],
   "source": [
    "### Exporting the desired data to a new cleaner csv file\n",
    "df_clean.to_csv('gas_prices_clean.csv', index = False)"
   ]
  }
 ],
 "metadata": {
  "kernelspec": {
   "display_name": "Python 3",
   "language": "python",
   "name": "python3"
  },
  "language_info": {
   "codemirror_mode": {
    "name": "ipython",
    "version": 3
   },
   "file_extension": ".py",
   "mimetype": "text/x-python",
   "name": "python",
   "nbconvert_exporter": "python",
   "pygments_lexer": "ipython3",
   "version": "3.11.4"
  },
  "orig_nbformat": 4
 },
 "nbformat": 4,
 "nbformat_minor": 2
}
